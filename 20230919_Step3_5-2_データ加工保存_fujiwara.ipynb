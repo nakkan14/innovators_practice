{
 "cells": [
  {
   "cell_type": "markdown",
   "metadata": {},
   "source": [
    "# athome | 空き家バンク データ前処理〜可視化〜スプシ書き込み"
   ]
  },
  {
   "cell_type": "markdown",
   "metadata": {},
   "source": [
    "> データ確認"
   ]
  },
  {
   "cell_type": "code",
   "execution_count": 19,
   "metadata": {},
   "outputs": [],
   "source": [
    "# import\n",
    "import numpy as np\n",
    "import pandas as pd\n",
    "import matplotlib.pyplot as plt\n",
    "import japanize_matplotlib\n",
    "import seaborn as sns"
   ]
  },
  {
   "cell_type": "code",
   "execution_count": 20,
   "metadata": {},
   "outputs": [
    {
     "data": {
      "text/html": [
       "<div>\n",
       "<style scoped>\n",
       "    .dataframe tbody tr th:only-of-type {\n",
       "        vertical-align: middle;\n",
       "    }\n",
       "\n",
       "    .dataframe tbody tr th {\n",
       "        vertical-align: top;\n",
       "    }\n",
       "\n",
       "    .dataframe thead th {\n",
       "        text-align: right;\n",
       "    }\n",
       "</style>\n",
       "<table border=\"1\" class=\"dataframe\">\n",
       "  <thead>\n",
       "    <tr style=\"text-align: right;\">\n",
       "      <th></th>\n",
       "      <th>HomePrice</th>\n",
       "      <th>HomeSpace</th>\n",
       "      <th>HomeArea</th>\n",
       "      <th>LandArea</th>\n",
       "      <th>PrivateArea</th>\n",
       "      <th>HomeCategry</th>\n",
       "      <th>HomeYear</th>\n",
       "      <th>HomePlace</th>\n",
       "      <th>HomePaciffic</th>\n",
       "    </tr>\n",
       "  </thead>\n",
       "  <tbody>\n",
       "    <tr>\n",
       "      <th>0</th>\n",
       "      <td>1480.0</td>\n",
       "      <td>4LDK</td>\n",
       "      <td>150.66</td>\n",
       "      <td>262.97</td>\n",
       "      <td>NaN</td>\n",
       "      <td>売戸建</td>\n",
       "      <td>1996-08-01</td>\n",
       "      <td>和歌山県紀の川市粉河</td>\n",
       "      <td>ＪＲ和歌山線 粉河駅 / 車4分</td>\n",
       "    </tr>\n",
       "    <tr>\n",
       "      <th>1</th>\n",
       "      <td>180.0</td>\n",
       "      <td>10DK</td>\n",
       "      <td>145.11</td>\n",
       "      <td>533.91</td>\n",
       "      <td>NaN</td>\n",
       "      <td>売戸建</td>\n",
       "      <td>1962-01-01</td>\n",
       "      <td>和歌山県紀の川市高野</td>\n",
       "      <td>ＪＲ和歌山線 打田駅 / 車12分</td>\n",
       "    </tr>\n",
       "    <tr>\n",
       "      <th>2</th>\n",
       "      <td>130.0</td>\n",
       "      <td>3DK</td>\n",
       "      <td>52.16</td>\n",
       "      <td>79.61</td>\n",
       "      <td>NaN</td>\n",
       "      <td>売戸建</td>\n",
       "      <td>1974-11-01</td>\n",
       "      <td>和歌山県紀の川市東国分</td>\n",
       "      <td>ＪＲ和歌山線 下井阪駅 / 車3分</td>\n",
       "    </tr>\n",
       "    <tr>\n",
       "      <th>3</th>\n",
       "      <td>600.0</td>\n",
       "      <td>5DK</td>\n",
       "      <td>125.44</td>\n",
       "      <td>105.88</td>\n",
       "      <td>NaN</td>\n",
       "      <td>売戸建</td>\n",
       "      <td>1975-08-01</td>\n",
       "      <td>和歌山県和歌山市紀三井寺</td>\n",
       "      <td>ＪＲ紀勢本線 紀三井寺駅 / 徒歩8分</td>\n",
       "    </tr>\n",
       "    <tr>\n",
       "      <th>4</th>\n",
       "      <td>300.0</td>\n",
       "      <td>4DK</td>\n",
       "      <td>55.89</td>\n",
       "      <td>79.92</td>\n",
       "      <td>NaN</td>\n",
       "      <td>売戸建</td>\n",
       "      <td>NaN</td>\n",
       "      <td>和歌山県紀の川市貴志川町鳥居</td>\n",
       "      <td>和歌山電鐵貴志川線 甘露寺前駅 / 車2分</td>\n",
       "    </tr>\n",
       "  </tbody>\n",
       "</table>\n",
       "</div>"
      ],
      "text/plain": [
       "   HomePrice HomeSpace  HomeArea  LandArea  PrivateArea HomeCategry  \\\n",
       "0     1480.0      4LDK    150.66    262.97          NaN         売戸建   \n",
       "1      180.0      10DK    145.11    533.91          NaN         売戸建   \n",
       "2      130.0       3DK     52.16     79.61          NaN         売戸建   \n",
       "3      600.0       5DK    125.44    105.88          NaN         売戸建   \n",
       "4      300.0       4DK     55.89     79.92          NaN         売戸建   \n",
       "\n",
       "     HomeYear       HomePlace           HomePaciffic  \n",
       "0  1996-08-01      和歌山県紀の川市粉河       ＪＲ和歌山線 粉河駅 / 車4分  \n",
       "1  1962-01-01      和歌山県紀の川市高野      ＪＲ和歌山線 打田駅 / 車12分  \n",
       "2  1974-11-01     和歌山県紀の川市東国分      ＪＲ和歌山線 下井阪駅 / 車3分  \n",
       "3  1975-08-01    和歌山県和歌山市紀三井寺    ＪＲ紀勢本線 紀三井寺駅 / 徒歩8分  \n",
       "4         NaN  和歌山県紀の川市貴志川町鳥居  和歌山電鐵貴志川線 甘露寺前駅 / 車2分  "
      ]
     },
     "execution_count": 20,
     "metadata": {},
     "output_type": "execute_result"
    }
   ],
   "source": [
    "# データ読み込み\n",
    "df = pd.read_csv('athome空き家バンク_和歌山_出力データ.csv')\n",
    "df.head()"
   ]
  },
  {
   "cell_type": "code",
   "execution_count": 21,
   "metadata": {},
   "outputs": [
    {
     "data": {
      "text/plain": [
       "HomePrice       float64\n",
       "HomeSpace        object\n",
       "HomeArea        float64\n",
       "LandArea        float64\n",
       "PrivateArea     float64\n",
       "HomeCategry      object\n",
       "HomeYear         object\n",
       "HomePlace        object\n",
       "HomePaciffic     object\n",
       "dtype: object"
      ]
     },
     "execution_count": 21,
     "metadata": {},
     "output_type": "execute_result"
    }
   ],
   "source": [
    "# データ型確認\n",
    "df.dtypes"
   ]
  },
  {
   "cell_type": "code",
   "execution_count": 22,
   "metadata": {},
   "outputs": [],
   "source": [
    "# カラム名変更\n",
    "columns = [\n",
    "    '物件価格', '間取', '建物面積', '土地面積', '私有地面積',\n",
    "    '分類', '築年月', '物件住所', 'アクセス'\n",
    "]\n",
    "df.columns = columns"
   ]
  },
  {
   "cell_type": "code",
   "execution_count": 23,
   "metadata": {},
   "outputs": [
    {
     "name": "stdout",
     "output_type": "stream",
     "text": [
      "物件価格      3\n",
      "間取        0\n",
      "建物面積      4\n",
      "土地面積      6\n",
      "私有地面積    45\n",
      "分類        0\n",
      "築年月      19\n",
      "物件住所      0\n",
      "アクセス      0\n",
      "dtype: int64\n"
     ]
    }
   ],
   "source": [
    "# 欠損値確認\n",
    "print(df.isnull().sum())"
   ]
  },
  {
   "cell_type": "code",
   "execution_count": 24,
   "metadata": {},
   "outputs": [
    {
     "data": {
      "text/html": [
       "<div>\n",
       "<style scoped>\n",
       "    .dataframe tbody tr th:only-of-type {\n",
       "        vertical-align: middle;\n",
       "    }\n",
       "\n",
       "    .dataframe tbody tr th {\n",
       "        vertical-align: top;\n",
       "    }\n",
       "\n",
       "    .dataframe thead th {\n",
       "        text-align: right;\n",
       "    }\n",
       "</style>\n",
       "<table border=\"1\" class=\"dataframe\">\n",
       "  <thead>\n",
       "    <tr style=\"text-align: right;\">\n",
       "      <th></th>\n",
       "      <th>物件価格</th>\n",
       "      <th>建物面積</th>\n",
       "      <th>土地面積</th>\n",
       "      <th>私有地面積</th>\n",
       "    </tr>\n",
       "  </thead>\n",
       "  <tbody>\n",
       "    <tr>\n",
       "      <th>count</th>\n",
       "      <td>42.000000</td>\n",
       "      <td>41.000000</td>\n",
       "      <td>39.000000</td>\n",
       "      <td>0.0</td>\n",
       "    </tr>\n",
       "    <tr>\n",
       "      <th>mean</th>\n",
       "      <td>550.714286</td>\n",
       "      <td>116.213415</td>\n",
       "      <td>319.025641</td>\n",
       "      <td>NaN</td>\n",
       "    </tr>\n",
       "    <tr>\n",
       "      <th>std</th>\n",
       "      <td>440.998827</td>\n",
       "      <td>67.502578</td>\n",
       "      <td>253.236941</td>\n",
       "      <td>NaN</td>\n",
       "    </tr>\n",
       "    <tr>\n",
       "      <th>min</th>\n",
       "      <td>130.000000</td>\n",
       "      <td>42.000000</td>\n",
       "      <td>26.460000</td>\n",
       "      <td>NaN</td>\n",
       "    </tr>\n",
       "    <tr>\n",
       "      <th>25%</th>\n",
       "      <td>280.000000</td>\n",
       "      <td>71.070000</td>\n",
       "      <td>126.390000</td>\n",
       "      <td>NaN</td>\n",
       "    </tr>\n",
       "    <tr>\n",
       "      <th>50%</th>\n",
       "      <td>415.000000</td>\n",
       "      <td>111.560000</td>\n",
       "      <td>262.970000</td>\n",
       "      <td>NaN</td>\n",
       "    </tr>\n",
       "    <tr>\n",
       "      <th>75%</th>\n",
       "      <td>775.000000</td>\n",
       "      <td>142.450000</td>\n",
       "      <td>437.505000</td>\n",
       "      <td>NaN</td>\n",
       "    </tr>\n",
       "    <tr>\n",
       "      <th>max</th>\n",
       "      <td>2400.000000</td>\n",
       "      <td>397.000000</td>\n",
       "      <td>1149.760000</td>\n",
       "      <td>NaN</td>\n",
       "    </tr>\n",
       "  </tbody>\n",
       "</table>\n",
       "</div>"
      ],
      "text/plain": [
       "              物件価格        建物面積         土地面積  私有地面積\n",
       "count    42.000000   41.000000    39.000000    0.0\n",
       "mean    550.714286  116.213415   319.025641    NaN\n",
       "std     440.998827   67.502578   253.236941    NaN\n",
       "min     130.000000   42.000000    26.460000    NaN\n",
       "25%     280.000000   71.070000   126.390000    NaN\n",
       "50%     415.000000  111.560000   262.970000    NaN\n",
       "75%     775.000000  142.450000   437.505000    NaN\n",
       "max    2400.000000  397.000000  1149.760000    NaN"
      ]
     },
     "execution_count": 24,
     "metadata": {},
     "output_type": "execute_result"
    }
   ],
   "source": [
    "# 統計量計算 数値データ\n",
    "df.describe()"
   ]
  },
  {
   "cell_type": "code",
   "execution_count": 25,
   "metadata": {},
   "outputs": [
    {
     "data": {
      "text/html": [
       "<div>\n",
       "<style scoped>\n",
       "    .dataframe tbody tr th:only-of-type {\n",
       "        vertical-align: middle;\n",
       "    }\n",
       "\n",
       "    .dataframe tbody tr th {\n",
       "        vertical-align: top;\n",
       "    }\n",
       "\n",
       "    .dataframe thead th {\n",
       "        text-align: right;\n",
       "    }\n",
       "</style>\n",
       "<table border=\"1\" class=\"dataframe\">\n",
       "  <thead>\n",
       "    <tr style=\"text-align: right;\">\n",
       "      <th></th>\n",
       "      <th>間取</th>\n",
       "      <th>分類</th>\n",
       "      <th>築年月</th>\n",
       "      <th>物件住所</th>\n",
       "      <th>アクセス</th>\n",
       "    </tr>\n",
       "  </thead>\n",
       "  <tbody>\n",
       "    <tr>\n",
       "      <th>count</th>\n",
       "      <td>45</td>\n",
       "      <td>45</td>\n",
       "      <td>26</td>\n",
       "      <td>45</td>\n",
       "      <td>45</td>\n",
       "    </tr>\n",
       "    <tr>\n",
       "      <th>unique</th>\n",
       "      <td>20</td>\n",
       "      <td>1</td>\n",
       "      <td>22</td>\n",
       "      <td>39</td>\n",
       "      <td>45</td>\n",
       "    </tr>\n",
       "    <tr>\n",
       "      <th>top</th>\n",
       "      <td>6DK</td>\n",
       "      <td>売戸建</td>\n",
       "      <td>1965-01-01</td>\n",
       "      <td>和歌山県有田郡広川町大字広</td>\n",
       "      <td>ＪＲ和歌山線 粉河駅 / 車4分</td>\n",
       "    </tr>\n",
       "    <tr>\n",
       "      <th>freq</th>\n",
       "      <td>6</td>\n",
       "      <td>45</td>\n",
       "      <td>3</td>\n",
       "      <td>3</td>\n",
       "      <td>1</td>\n",
       "    </tr>\n",
       "  </tbody>\n",
       "</table>\n",
       "</div>"
      ],
      "text/plain": [
       "         間取   分類         築年月           物件住所              アクセス\n",
       "count    45   45          26             45                45\n",
       "unique   20    1          22             39                45\n",
       "top     6DK  売戸建  1965-01-01  和歌山県有田郡広川町大字広  ＪＲ和歌山線 粉河駅 / 車4分\n",
       "freq      6   45           3              3                 1"
      ]
     },
     "execution_count": 25,
     "metadata": {},
     "output_type": "execute_result"
    }
   ],
   "source": [
    "# 統計量計算　文字列データ\n",
    "df.describe(include=['O'])"
   ]
  },
  {
   "cell_type": "code",
   "execution_count": 30,
   "metadata": {},
   "outputs": [
    {
     "name": "stdout",
     "output_type": "stream",
     "text": [
      "間取\n",
      "6DK      6\n",
      "3DK      5\n",
      "5DK      5\n",
      "4DK      4\n",
      "4LDK     3\n",
      "不明       2\n",
      "6LDK     2\n",
      "5LDK     2\n",
      "7K       2\n",
      "7DK      2\n",
      "4K       2\n",
      "3K       2\n",
      "4SK      1\n",
      "6SLDK    1\n",
      "1DK      1\n",
      "5K       1\n",
      "9DK      1\n",
      "10DK     1\n",
      "9K       1\n",
      "8K       1\n",
      "Name: 間取, dtype: int64\n",
      "\n"
     ]
    }
   ],
   "source": [
    "# 出現回数をカウント\n",
    "df2 = df[['間取']]\n",
    "\n",
    "# 値の出現回数\n",
    "for c in list(df2.columns):\n",
    "    print(c)\n",
    "    print(df[c].value_counts())\n",
    "    print()"
   ]
  },
  {
   "cell_type": "markdown",
   "metadata": {},
   "source": [
    ">データ可視化"
   ]
  },
  {
   "cell_type": "code",
   "execution_count": 37,
   "metadata": {},
   "outputs": [
    {
     "data": {
      "image/png": "[encoded data removed]",
      "text/plain": [
       "<Figure size 720x432 with 4 Axes>"
      ]
     },
     "metadata": {
      "needs_background": "light"
     },
     "output_type": "display_data"
    }
   ],
   "source": [
    "import matplotlib.pyplot as plt\n",
    "plt.rcParams['figure.figsize'] = (10, 6)\n",
    "\n",
    "# データフレームの数値項目でヒストグラム表示.\n",
    "# ヒストグラムはデータの分布を確認するのに便利です。\n",
    "df.hist(bins=20, layout=(2,2))\n",
    "plt.tight_layout()\n",
    "plt.show()"
   ]
  },
  {
   "cell_type": "code",
   "execution_count": 34,
   "metadata": {},
   "outputs": [
    {
     "data": {
      "image/png": "[encoded data removed]",
      "text/plain": [
       "<Figure size 576x288 with 2 Axes>"
      ]
     },
     "metadata": {
      "needs_background": "light"
     },
     "output_type": "display_data"
    }
   ],
   "source": [
    "plt.rcParams['figure.figsize'] = (8, 4)\n",
    "\n",
    "# 非数値項目の度数分布\n",
    "df2 = df[['間取', '築年月']]\n",
    "\n",
    "for i, c in enumerate(df2.columns):\n",
    "    ax = plt.subplot(1, 2, i+1)\n",
    "    df2[c].value_counts().plot(\n",
    "        kind='bar', title=c, ax=ax)    \n",
    "\n",
    "# レイアウトの調整    \n",
    "plt.tight_layout()\n",
    "plt.show()"
   ]
  },
  {
   "cell_type": "code",
   "execution_count": 35,
   "metadata": {},
   "outputs": [
    {
     "data": {
      "image/png": "[encoded data removed]",
      "text/plain": [
       "<Figure size 432x432 with 1 Axes>"
      ]
     },
     "metadata": {
      "needs_background": "light"
     },
     "output_type": "display_data"
    }
   ],
   "source": [
    "plt.rcParams['figure.figsize'] = (6, 6)\n",
    "\n",
    "# 箱ひげ図の描画\n",
    "sns.boxplot(\n",
    "    x='間取', y='物件価格', data=df, \n",
    "    palette=['blue', 'cyan'])\n",
    "plt.title('間取と物件価格の関係')\n",
    "plt.show()"
   ]
  },
  {
   "cell_type": "code",
   "execution_count": 36,
   "metadata": {},
   "outputs": [
    {
     "data": {
      "image/png": "[encoded data removed]",
      "text/plain": [
       "<Figure size 432x432 with 1 Axes>"
      ]
     },
     "metadata": {
      "needs_background": "light"
     },
     "output_type": "display_data"
    }
   ],
   "source": [
    "plt.scatter(\n",
    "    x='建物面積', y='物件価格', data=df) # 用意したxとyの配列をplt.scatter(x軸の値, y軸の値)として代入\n",
    "plt.xlabel(\"建物面積\") # x軸のラベルを設定\n",
    "plt.ylabel(\"物件価格\") # y軸のラベルを設定\n",
    "plt.show()"
   ]
  },
  {
   "cell_type": "markdown",
   "metadata": {},
   "source": [
    "> データ前処理"
   ]
  },
  {
   "cell_type": "code",
   "execution_count": 41,
   "metadata": {},
   "outputs": [
    {
     "data": {
      "text/html": [
       "<div>\n",
       "<style scoped>\n",
       "    .dataframe tbody tr th:only-of-type {\n",
       "        vertical-align: middle;\n",
       "    }\n",
       "\n",
       "    .dataframe tbody tr th {\n",
       "        vertical-align: top;\n",
       "    }\n",
       "\n",
       "    .dataframe thead th {\n",
       "        text-align: right;\n",
       "    }\n",
       "</style>\n",
       "<table border=\"1\" class=\"dataframe\">\n",
       "  <thead>\n",
       "    <tr style=\"text-align: right;\">\n",
       "      <th></th>\n",
       "      <th>物件価格</th>\n",
       "      <th>間取</th>\n",
       "      <th>建物面積</th>\n",
       "      <th>土地面積</th>\n",
       "      <th>築年月</th>\n",
       "      <th>物件住所</th>\n",
       "      <th>アクセス</th>\n",
       "    </tr>\n",
       "  </thead>\n",
       "  <tbody>\n",
       "    <tr>\n",
       "      <th>0</th>\n",
       "      <td>1480.0</td>\n",
       "      <td>4LDK</td>\n",
       "      <td>150.66</td>\n",
       "      <td>262.97</td>\n",
       "      <td>1996-08-01</td>\n",
       "      <td>和歌山県紀の川市粉河</td>\n",
       "      <td>ＪＲ和歌山線 粉河駅 / 車4分</td>\n",
       "    </tr>\n",
       "    <tr>\n",
       "      <th>1</th>\n",
       "      <td>180.0</td>\n",
       "      <td>10DK</td>\n",
       "      <td>145.11</td>\n",
       "      <td>533.91</td>\n",
       "      <td>1962-01-01</td>\n",
       "      <td>和歌山県紀の川市高野</td>\n",
       "      <td>ＪＲ和歌山線 打田駅 / 車12分</td>\n",
       "    </tr>\n",
       "    <tr>\n",
       "      <th>2</th>\n",
       "      <td>130.0</td>\n",
       "      <td>3DK</td>\n",
       "      <td>52.16</td>\n",
       "      <td>79.61</td>\n",
       "      <td>1974-11-01</td>\n",
       "      <td>和歌山県紀の川市東国分</td>\n",
       "      <td>ＪＲ和歌山線 下井阪駅 / 車3分</td>\n",
       "    </tr>\n",
       "    <tr>\n",
       "      <th>3</th>\n",
       "      <td>600.0</td>\n",
       "      <td>5DK</td>\n",
       "      <td>125.44</td>\n",
       "      <td>105.88</td>\n",
       "      <td>1975-08-01</td>\n",
       "      <td>和歌山県和歌山市紀三井寺</td>\n",
       "      <td>ＪＲ紀勢本線 紀三井寺駅 / 徒歩8分</td>\n",
       "    </tr>\n",
       "    <tr>\n",
       "      <th>4</th>\n",
       "      <td>300.0</td>\n",
       "      <td>4DK</td>\n",
       "      <td>55.89</td>\n",
       "      <td>79.92</td>\n",
       "      <td>NaN</td>\n",
       "      <td>和歌山県紀の川市貴志川町鳥居</td>\n",
       "      <td>和歌山電鐵貴志川線 甘露寺前駅 / 車2分</td>\n",
       "    </tr>\n",
       "  </tbody>\n",
       "</table>\n",
       "</div>"
      ],
      "text/plain": [
       "     物件価格    間取    建物面積    土地面積         築年月            物件住所  \\\n",
       "0  1480.0  4LDK  150.66  262.97  1996-08-01      和歌山県紀の川市粉河   \n",
       "1   180.0  10DK  145.11  533.91  1962-01-01      和歌山県紀の川市高野   \n",
       "2   130.0   3DK   52.16   79.61  1974-11-01     和歌山県紀の川市東国分   \n",
       "3   600.0   5DK  125.44  105.88  1975-08-01    和歌山県和歌山市紀三井寺   \n",
       "4   300.0   4DK   55.89   79.92         NaN  和歌山県紀の川市貴志川町鳥居   \n",
       "\n",
       "                    アクセス  \n",
       "0       ＪＲ和歌山線 粉河駅 / 車4分  \n",
       "1      ＪＲ和歌山線 打田駅 / 車12分  \n",
       "2      ＪＲ和歌山線 下井阪駅 / 車3分  \n",
       "3    ＪＲ紀勢本線 紀三井寺駅 / 徒歩8分  \n",
       "4  和歌山電鐵貴志川線 甘露寺前駅 / 車2分  "
      ]
     },
     "execution_count": 41,
     "metadata": {},
     "output_type": "execute_result"
    }
   ],
   "source": [
    "# 私有地面積と分類列を削除\n",
    "df_main = df[['物件価格', '間取', '建物面積', '土地面積', '築年月', '物件住所', 'アクセス']]\n",
    "df_main.head()"
   ]
  },
  {
   "cell_type": "code",
   "execution_count": 42,
   "metadata": {},
   "outputs": [
    {
     "name": "stderr",
     "output_type": "stream",
     "text": [
      "/var/folders/_f/wnnh_7vx6knb7ssvxrg426vr0000gn/T/ipykernel_28107/1436080343.py:2: FutureWarning: Dropping of nuisance columns in DataFrame reductions (with 'numeric_only=None') is deprecated; in a future version this will raise TypeError.  Select only valid columns before calling the reduction.\n",
      "  df_filled = df_main.fillna(df.median())\n"
     ]
    },
    {
     "data": {
      "text/html": [
       "<div>\n",
       "<style scoped>\n",
       "    .dataframe tbody tr th:only-of-type {\n",
       "        vertical-align: middle;\n",
       "    }\n",
       "\n",
       "    .dataframe tbody tr th {\n",
       "        vertical-align: top;\n",
       "    }\n",
       "\n",
       "    .dataframe thead th {\n",
       "        text-align: right;\n",
       "    }\n",
       "</style>\n",
       "<table border=\"1\" class=\"dataframe\">\n",
       "  <thead>\n",
       "    <tr style=\"text-align: right;\">\n",
       "      <th></th>\n",
       "      <th>物件価格</th>\n",
       "      <th>間取</th>\n",
       "      <th>建物面積</th>\n",
       "      <th>土地面積</th>\n",
       "      <th>築年月</th>\n",
       "      <th>物件住所</th>\n",
       "      <th>アクセス</th>\n",
       "    </tr>\n",
       "  </thead>\n",
       "  <tbody>\n",
       "    <tr>\n",
       "      <th>0</th>\n",
       "      <td>1480.0</td>\n",
       "      <td>4LDK</td>\n",
       "      <td>150.66</td>\n",
       "      <td>262.97</td>\n",
       "      <td>1996-08-01</td>\n",
       "      <td>和歌山県紀の川市粉河</td>\n",
       "      <td>ＪＲ和歌山線 粉河駅 / 車4分</td>\n",
       "    </tr>\n",
       "    <tr>\n",
       "      <th>1</th>\n",
       "      <td>180.0</td>\n",
       "      <td>10DK</td>\n",
       "      <td>145.11</td>\n",
       "      <td>533.91</td>\n",
       "      <td>1962-01-01</td>\n",
       "      <td>和歌山県紀の川市高野</td>\n",
       "      <td>ＪＲ和歌山線 打田駅 / 車12分</td>\n",
       "    </tr>\n",
       "    <tr>\n",
       "      <th>2</th>\n",
       "      <td>130.0</td>\n",
       "      <td>3DK</td>\n",
       "      <td>52.16</td>\n",
       "      <td>79.61</td>\n",
       "      <td>1974-11-01</td>\n",
       "      <td>和歌山県紀の川市東国分</td>\n",
       "      <td>ＪＲ和歌山線 下井阪駅 / 車3分</td>\n",
       "    </tr>\n",
       "    <tr>\n",
       "      <th>3</th>\n",
       "      <td>600.0</td>\n",
       "      <td>5DK</td>\n",
       "      <td>125.44</td>\n",
       "      <td>105.88</td>\n",
       "      <td>1975-08-01</td>\n",
       "      <td>和歌山県和歌山市紀三井寺</td>\n",
       "      <td>ＪＲ紀勢本線 紀三井寺駅 / 徒歩8分</td>\n",
       "    </tr>\n",
       "    <tr>\n",
       "      <th>4</th>\n",
       "      <td>300.0</td>\n",
       "      <td>4DK</td>\n",
       "      <td>55.89</td>\n",
       "      <td>79.92</td>\n",
       "      <td>NaN</td>\n",
       "      <td>和歌山県紀の川市貴志川町鳥居</td>\n",
       "      <td>和歌山電鐵貴志川線 甘露寺前駅 / 車2分</td>\n",
       "    </tr>\n",
       "  </tbody>\n",
       "</table>\n",
       "</div>"
      ],
      "text/plain": [
       "     物件価格    間取    建物面積    土地面積         築年月            物件住所  \\\n",
       "0  1480.0  4LDK  150.66  262.97  1996-08-01      和歌山県紀の川市粉河   \n",
       "1   180.0  10DK  145.11  533.91  1962-01-01      和歌山県紀の川市高野   \n",
       "2   130.0   3DK   52.16   79.61  1974-11-01     和歌山県紀の川市東国分   \n",
       "3   600.0   5DK  125.44  105.88  1975-08-01    和歌山県和歌山市紀三井寺   \n",
       "4   300.0   4DK   55.89   79.92         NaN  和歌山県紀の川市貴志川町鳥居   \n",
       "\n",
       "                    アクセス  \n",
       "0       ＪＲ和歌山線 粉河駅 / 車4分  \n",
       "1      ＪＲ和歌山線 打田駅 / 車12分  \n",
       "2      ＪＲ和歌山線 下井阪駅 / 車3分  \n",
       "3    ＪＲ紀勢本線 紀三井寺駅 / 徒歩8分  \n",
       "4  和歌山電鐵貴志川線 甘露寺前駅 / 車2分  "
      ]
     },
     "execution_count": 42,
     "metadata": {},
     "output_type": "execute_result"
    }
   ],
   "source": [
    "# 中央値で欠損補完\n",
    "df_filled = df_main.fillna(df.median())\n",
    "df_filled.head()"
   ]
  },
  {
   "cell_type": "code",
   "execution_count": 29,
   "metadata": {},
   "outputs": [
    {
     "data": {
      "text/html": [
       "<div>\n",
       "<style scoped>\n",
       "    .dataframe tbody tr th:only-of-type {\n",
       "        vertical-align: middle;\n",
       "    }\n",
       "\n",
       "    .dataframe tbody tr th {\n",
       "        vertical-align: top;\n",
       "    }\n",
       "\n",
       "    .dataframe thead th {\n",
       "        text-align: right;\n",
       "    }\n",
       "</style>\n",
       "<table border=\"1\" class=\"dataframe\">\n",
       "  <thead>\n",
       "    <tr style=\"text-align: right;\">\n",
       "      <th></th>\n",
       "      <th>物件価格</th>\n",
       "      <th>建物面積</th>\n",
       "      <th>土地面積</th>\n",
       "      <th>築年月</th>\n",
       "      <th>物件住所</th>\n",
       "      <th>アクセス</th>\n",
       "      <th>10DK</th>\n",
       "      <th>1DK</th>\n",
       "      <th>3DK</th>\n",
       "      <th>3K</th>\n",
       "      <th>...</th>\n",
       "      <th>5LDK</th>\n",
       "      <th>6DK</th>\n",
       "      <th>6LDK</th>\n",
       "      <th>6SLDK</th>\n",
       "      <th>7DK</th>\n",
       "      <th>7K</th>\n",
       "      <th>8K</th>\n",
       "      <th>9DK</th>\n",
       "      <th>9K</th>\n",
       "      <th>不明</th>\n",
       "    </tr>\n",
       "  </thead>\n",
       "  <tbody>\n",
       "    <tr>\n",
       "      <th>0</th>\n",
       "      <td>1480.0</td>\n",
       "      <td>150.66</td>\n",
       "      <td>262.97</td>\n",
       "      <td>1996-08-01</td>\n",
       "      <td>和歌山県紀の川市粉河</td>\n",
       "      <td>ＪＲ和歌山線 粉河駅 / 車4分</td>\n",
       "      <td>0</td>\n",
       "      <td>0</td>\n",
       "      <td>0</td>\n",
       "      <td>0</td>\n",
       "      <td>...</td>\n",
       "      <td>0</td>\n",
       "      <td>0</td>\n",
       "      <td>0</td>\n",
       "      <td>0</td>\n",
       "      <td>0</td>\n",
       "      <td>0</td>\n",
       "      <td>0</td>\n",
       "      <td>0</td>\n",
       "      <td>0</td>\n",
       "      <td>0</td>\n",
       "    </tr>\n",
       "    <tr>\n",
       "      <th>1</th>\n",
       "      <td>180.0</td>\n",
       "      <td>145.11</td>\n",
       "      <td>533.91</td>\n",
       "      <td>1962-01-01</td>\n",
       "      <td>和歌山県紀の川市高野</td>\n",
       "      <td>ＪＲ和歌山線 打田駅 / 車12分</td>\n",
       "      <td>1</td>\n",
       "      <td>0</td>\n",
       "      <td>0</td>\n",
       "      <td>0</td>\n",
       "      <td>...</td>\n",
       "      <td>0</td>\n",
       "      <td>0</td>\n",
       "      <td>0</td>\n",
       "      <td>0</td>\n",
       "      <td>0</td>\n",
       "      <td>0</td>\n",
       "      <td>0</td>\n",
       "      <td>0</td>\n",
       "      <td>0</td>\n",
       "      <td>0</td>\n",
       "    </tr>\n",
       "    <tr>\n",
       "      <th>2</th>\n",
       "      <td>130.0</td>\n",
       "      <td>52.16</td>\n",
       "      <td>79.61</td>\n",
       "      <td>1974-11-01</td>\n",
       "      <td>和歌山県紀の川市東国分</td>\n",
       "      <td>ＪＲ和歌山線 下井阪駅 / 車3分</td>\n",
       "      <td>0</td>\n",
       "      <td>0</td>\n",
       "      <td>1</td>\n",
       "      <td>0</td>\n",
       "      <td>...</td>\n",
       "      <td>0</td>\n",
       "      <td>0</td>\n",
       "      <td>0</td>\n",
       "      <td>0</td>\n",
       "      <td>0</td>\n",
       "      <td>0</td>\n",
       "      <td>0</td>\n",
       "      <td>0</td>\n",
       "      <td>0</td>\n",
       "      <td>0</td>\n",
       "    </tr>\n",
       "    <tr>\n",
       "      <th>3</th>\n",
       "      <td>600.0</td>\n",
       "      <td>125.44</td>\n",
       "      <td>105.88</td>\n",
       "      <td>1975-08-01</td>\n",
       "      <td>和歌山県和歌山市紀三井寺</td>\n",
       "      <td>ＪＲ紀勢本線 紀三井寺駅 / 徒歩8分</td>\n",
       "      <td>0</td>\n",
       "      <td>0</td>\n",
       "      <td>0</td>\n",
       "      <td>0</td>\n",
       "      <td>...</td>\n",
       "      <td>0</td>\n",
       "      <td>0</td>\n",
       "      <td>0</td>\n",
       "      <td>0</td>\n",
       "      <td>0</td>\n",
       "      <td>0</td>\n",
       "      <td>0</td>\n",
       "      <td>0</td>\n",
       "      <td>0</td>\n",
       "      <td>0</td>\n",
       "    </tr>\n",
       "    <tr>\n",
       "      <th>4</th>\n",
       "      <td>300.0</td>\n",
       "      <td>55.89</td>\n",
       "      <td>79.92</td>\n",
       "      <td>NaN</td>\n",
       "      <td>和歌山県紀の川市貴志川町鳥居</td>\n",
       "      <td>和歌山電鐵貴志川線 甘露寺前駅 / 車2分</td>\n",
       "      <td>0</td>\n",
       "      <td>0</td>\n",
       "      <td>0</td>\n",
       "      <td>0</td>\n",
       "      <td>...</td>\n",
       "      <td>0</td>\n",
       "      <td>0</td>\n",
       "      <td>0</td>\n",
       "      <td>0</td>\n",
       "      <td>0</td>\n",
       "      <td>0</td>\n",
       "      <td>0</td>\n",
       "      <td>0</td>\n",
       "      <td>0</td>\n",
       "      <td>0</td>\n",
       "    </tr>\n",
       "  </tbody>\n",
       "</table>\n",
       "<p>5 rows × 26 columns</p>\n",
       "</div>"
      ],
      "text/plain": [
       "     物件価格    建物面積    土地面積         築年月            物件住所                   アクセス  \\\n",
       "0  1480.0  150.66  262.97  1996-08-01      和歌山県紀の川市粉河       ＪＲ和歌山線 粉河駅 / 車4分   \n",
       "1   180.0  145.11  533.91  1962-01-01      和歌山県紀の川市高野      ＪＲ和歌山線 打田駅 / 車12分   \n",
       "2   130.0   52.16   79.61  1974-11-01     和歌山県紀の川市東国分      ＪＲ和歌山線 下井阪駅 / 車3分   \n",
       "3   600.0  125.44  105.88  1975-08-01    和歌山県和歌山市紀三井寺    ＪＲ紀勢本線 紀三井寺駅 / 徒歩8分   \n",
       "4   300.0   55.89   79.92         NaN  和歌山県紀の川市貴志川町鳥居  和歌山電鐵貴志川線 甘露寺前駅 / 車2分   \n",
       "\n",
       "   10DK  1DK  3DK  3K  ...  5LDK  6DK  6LDK  6SLDK  7DK  7K  8K  9DK  9K  不明  \n",
       "0     0    0    0   0  ...     0    0     0      0    0   0   0    0   0   0  \n",
       "1     1    0    0   0  ...     0    0     0      0    0   0   0    0   0   0  \n",
       "2     0    0    1   0  ...     0    0     0      0    0   0   0    0   0   0  \n",
       "3     0    0    0   0  ...     0    0     0      0    0   0   0    0   0   0  \n",
       "4     0    0    0   0  ...     0    0     0      0    0   0   0    0   0   0  \n",
       "\n",
       "[5 rows x 26 columns]"
      ]
     },
     "execution_count": 29,
     "metadata": {},
     "output_type": "execute_result"
    }
   ],
   "source": [
    "# ダミー変数化\n",
    "dummy_df = pd.get_dummies(df_filled['間取'])\n",
    "df_filled_dummy = pd.concat([df_filled, dummy_df], axis=1)\n",
    "df_filled_dummy = df_filled_dummy.drop('間取', axis=1)\n",
    "df_filled_dummy.head()"
   ]
  },
  {
   "cell_type": "markdown",
   "metadata": {},
   "source": [
    "> スプレッドシート書き込み"
   ]
  },
  {
   "cell_type": "code",
   "execution_count": 55,
   "metadata": {},
   "outputs": [],
   "source": [
    "import gspread\n",
    "from google.oauth2.service_account import Credentials\n",
    "from gspread_dataframe import get_as_dataframe, set_with_dataframe\n",
    "# お決まりの文句\n",
    "# 2つのAPIを記述しないとリフレッシュトークンを3600秒毎に発行し続けなければならない\n",
    "scope = ['https://www.googleapis.com/auth/spreadsheets','https://www.googleapis.com/auth/drive']\n",
    "#ダウンロードしたjsonファイル名をクレデンシャル変数に設定。\n",
    "credentials = Credentials.from_service_account_file(\"gspread-test-398911-67baa083124f.json\", scopes=scope)\n",
    "#OAuth2の資格情報を使用してGoogle APIにログイン。\n",
    "gc = gspread.authorize(credentials)\n",
    "#スプレッドシートIDを変数に格納する。\n",
    "SPREADSHEET_KEY = '1rcsYIABOTLQNM6WQx5Ao9rl6DmqOpt_hX5MehdVO3IE'"
   ]
  },
  {
   "cell_type": "code",
   "execution_count": 56,
   "metadata": {},
   "outputs": [],
   "source": [
    "# スプレッドシート（ブック）を開く\n",
    "workbook = gc.open_by_key(SPREADSHEET_KEY)\n",
    "# シートを開く\n",
    "worksheet = workbook.worksheet('シート1')"
   ]
  },
  {
   "cell_type": "markdown",
   "metadata": {},
   "source": [
    "[Python] Googleスプレッドシートのデータをpandas DataFrameで読み込み、書き込みを行う  \n",
    "参考URL：https://note.com/kohaku935/n/ne048969e4617"
   ]
  },
  {
   "cell_type": "code",
   "execution_count": 57,
   "metadata": {},
   "outputs": [],
   "source": [
    "# データを指定したシートに書き込む\n",
    "set_with_dataframe(worksheet, df_filled_dummy, row=1, col=1)"
   ]
  },
  {
   "cell_type": "code",
   "execution_count": null,
   "metadata": {},
   "outputs": [],
   "source": []
  }
 ],
 "metadata": {
  "kernelspec": {
   "display_name": "base",
   "language": "python",
   "name": "python3"
  },
  "language_info": {
   "codemirror_mode": {
    "name": "ipython",
    "version": 3
   },
   "file_extension": ".py",
   "mimetype": "text/x-python",
   "name": "python",
   "nbconvert_exporter": "python",
   "pygments_lexer": "ipython3",
   "version": "3.9.7"
  },
  "orig_nbformat": 4
 },
 "nbformat": 4,
 "nbformat_minor": 2
}
