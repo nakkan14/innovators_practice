{
 "cells": [
  {
   "cell_type": "code",
   "execution_count": 2,
   "id": "d9fd52c7-0de1-4b41-8afe-23c96d251101",
   "metadata": {},
   "outputs": [],
   "source": [
    "from bs4 import BeautifulSoup\n",
    "import requests"
   ]
  },
  {
   "cell_type": "code",
   "execution_count": 50,
   "id": "ccfbee41-740e-42d9-aa55-d6ec3ee3f0f7",
   "metadata": {},
   "outputs": [
    {
     "name": "stdout",
     "output_type": "stream",
     "text": [
      "https://suumo.jp/jj/chintai/ichiran/FR301FC001/?ar=060&bs=040&ta=30&sc=30201&sc=30202&sc=30203&sc=30204&sc=30205&sc=30206&sc=30208&sc=30209&sc=30340&sc=30360&sc=30380&sc=30400&sc=30420&cb=0.0&ct=9999999&et=9999999&ts=3&cn=9999999&mb=0&mt=9999999&shkr1=03&shkr2=03&shkr3=03&shkr4=03&fw2=[]\n"
     ]
    }
   ],
   "source": [
    "url = 'https://suumo.jp/jj/chintai/ichiran/FR301FC001/?ar=060&bs=040&ta=30&sc=30201&sc=30202&sc=30203&sc=30204&sc=30205&sc=30206&sc=30208&sc=30209&sc=30340&sc=30360&sc=30380&sc=30400&sc=30420&cb=0.0&ct=9999999&et=9999999&ts=3&cn=9999999&mb=0&mt=9999999&shkr1=03&shkr2=03&shkr3=03&shkr4=03&fw2=[]'\n",
    "target_url = url.format(1)\n",
    "print(target_url)"
   ]
  },
  {
   "cell_type": "code",
   "execution_count": 6,
   "id": "310c97ab-46c8-4cf8-a0b7-aa8474f994a5",
   "metadata": {},
   "outputs": [],
   "source": [
    "r = requests.get(target_url)\n",
    "soup = BeautifulSoup(r.text)"
   ]
  },
  {
   "cell_type": "code",
   "execution_count": 8,
   "id": "50e4ea24-8133-4df0-963b-5a84c6d673d0",
   "metadata": {},
   "outputs": [],
   "source": [
    "contents = soup.find_all('div',class_='cassetteitem')"
   ]
  },
  {
   "cell_type": "code",
   "execution_count": 11,
   "id": "07304ca0-7c58-4a4b-98af-9831d319c5b5",
   "metadata": {},
   "outputs": [
    {
     "data": {
      "text/plain": [
       "30"
      ]
     },
     "execution_count": 11,
     "metadata": {},
     "output_type": "execute_result"
    }
   ],
   "source": [
    "len(contents)"
   ]
  },
  {
   "cell_type": "code",
   "execution_count": 12,
   "id": "e9f3b685-5e1a-4606-acb5-7ba147a64389",
   "metadata": {},
   "outputs": [],
   "source": [
    "content=contents[0]"
   ]
  },
  {
   "cell_type": "code",
   "execution_count": 13,
   "id": "f44c63b8-8d87-4b35-b450-c5b44c48db98",
   "metadata": {},
   "outputs": [],
   "source": [
    "detail = content.find('div',class_='cassetteitem-detail')\n",
    "table = content.find('table',class_='cassetteitem_other')"
   ]
  },
  {
   "cell_type": "code",
   "execution_count": 14,
   "id": "479d39e0-dcec-4eed-80dc-85b14366dc42",
   "metadata": {},
   "outputs": [],
   "source": [
    "title = detail.find('div',class_='cassetteitem_content-title').text\n",
    "address = detail.find('li',class_='cassetteitem_detail-col1').text\n",
    "access = detail.find('li',class_='cassetteitem_detail-col2').text\n",
    "age = detail.find('li',class_='cassetteitem_detail-col3').text"
   ]
  },
  {
   "cell_type": "code",
   "execution_count": 15,
   "id": "2fe5f47b-c5a7-4417-81e3-d61c7c3f1438",
   "metadata": {},
   "outputs": [
    {
     "data": {
      "text/plain": [
       "('T様下津野平屋',\n",
       " '和歌山県有田郡有田川町大字下津野',\n",
       " '\\nＪＲ紀勢本線/藤並駅 歩29分\\nＪＲ紀勢本線/紀伊宮原駅 歩66分\\nＪＲ紀勢本線/湯浅駅 歩69分\\n',\n",
       " '\\n築36年\\n平屋\\n')"
      ]
     },
     "execution_count": 15,
     "metadata": {},
     "output_type": "execute_result"
    }
   ],
   "source": [
    "title,address,access,age"
   ]
  },
  {
   "cell_type": "code",
   "execution_count": 16,
   "id": "77d3ee36-a566-4e59-a42f-3993e571ecba",
   "metadata": {},
   "outputs": [],
   "source": [
    "tr_tags = table.find_all('tr',class_='js-cassette_link')\n",
    "tr_tag = tr_tags[0]"
   ]
  },
  {
   "cell_type": "code",
   "execution_count": 19,
   "id": "a5f35130-8002-44e1-89eb-86201adbf369",
   "metadata": {},
   "outputs": [],
   "source": [
    "floor,price,first_fee,capacity = tr_tag.find_all('td')[2:6]"
   ]
  },
  {
   "cell_type": "code",
   "execution_count": 20,
   "id": "96017a9b-23f8-4b87-9e0b-24bf2ac809a6",
   "metadata": {},
   "outputs": [
    {
     "data": {
      "text/plain": [
       "(<td>\n",
       " \t\t\t\t\t\t\t\t\t\t\t1階</td>,\n",
       " <td>\n",
       " <ul>\n",
       " <li><span class=\"cassetteitem_price cassetteitem_price--rent\"><span class=\"cassetteitem_other-emphasis ui-text--bold\">5.5万円</span></span></li>\n",
       " <li><span class=\"cassetteitem_price cassetteitem_price--administration\">-</span></li>\n",
       " </ul>\n",
       " </td>,\n",
       " <td>\n",
       " <ul>\n",
       " <li><span class=\"cassetteitem_price cassetteitem_price--deposit\">5.5万円</span></li>\n",
       " <li><span class=\"cassetteitem_price cassetteitem_price--gratuity\">5.5万円</span></li>\n",
       " </ul>\n",
       " </td>,\n",
       " <td>\n",
       " <ul>\n",
       " <li><span class=\"cassetteitem_madori\">4DK</span></li>\n",
       " <li><span class=\"cassetteitem_menseki\">53.6m<sup>2</sup></span></li>\n",
       " </ul>\n",
       " </td>)"
      ]
     },
     "execution_count": 20,
     "metadata": {},
     "output_type": "execute_result"
    }
   ],
   "source": [
    "floor,price,first_fee,capacity"
   ]
  },
  {
   "cell_type": "code",
   "execution_count": 21,
   "id": "8631a277-606a-4755-9c7e-4849d03b210b",
   "metadata": {},
   "outputs": [],
   "source": [
    "fee,management_fee = price.find_all('li')\n",
    "deposit,gratuity = first_fee.find_all('li')\n",
    "madori,menseki = capacity.find_all('li')"
   ]
  },
  {
   "cell_type": "code",
   "execution_count": 23,
   "id": "8e2cc5a5-323c-4061-8180-f42e49de46d0",
   "metadata": {},
   "outputs": [
    {
     "name": "stdout",
     "output_type": "stream",
     "text": [
      "<li><span class=\"cassetteitem_price cassetteitem_price--rent\"><span class=\"cassetteitem_other-emphasis ui-text--bold\">5.5万円</span></span></li>\n",
      "<li><span class=\"cassetteitem_price cassetteitem_price--administration\">-</span></li>\n",
      "\n",
      "<li><span class=\"cassetteitem_price cassetteitem_price--deposit\">5.5万円</span></li>\n",
      "<li><span class=\"cassetteitem_price cassetteitem_price--gratuity\">5.5万円</span></li>\n",
      "\n",
      "<li><span class=\"cassetteitem_madori\">4DK</span></li>\n",
      "<li><span class=\"cassetteitem_menseki\">53.6m<sup>2</sup></span></li>\n",
      "\n"
     ]
    }
   ],
   "source": [
    "print(fee)\n",
    "print(management_fee)\n",
    "print()\n",
    "\n",
    "print(deposit)\n",
    "print(gratuity)\n",
    "print()\n",
    "\n",
    "print(madori)\n",
    "print(menseki)\n",
    "print()"
   ]
  },
  {
   "cell_type": "code",
   "execution_count": 24,
   "id": "599c5000-b3f4-4e4b-8896-5a2bf1fb63f7",
   "metadata": {},
   "outputs": [],
   "source": [
    "d = {\n",
    "    'title':title,\n",
    "    'address':address,\n",
    "    'access':access,\n",
    "    'age':age,\n",
    "    'floor':floor.text,\n",
    "    'fee':fee.text,\n",
    "    'management_fee':management_fee.text,\n",
    "    'deposit':deposit.text,\n",
    "    'gratuity':gratuity.text,\n",
    "    'madori':madori.text,\n",
    "    'menseki':menseki.text\n",
    "}\n",
    "    "
   ]
  },
  {
   "cell_type": "code",
   "execution_count": 25,
   "id": "867cadf5-5de3-4826-9d96-9fc05bfdd83f",
   "metadata": {},
   "outputs": [
    {
     "data": {
      "text/plain": [
       "{'title': 'T様下津野平屋',\n",
       " 'address': '和歌山県有田郡有田川町大字下津野',\n",
       " 'access': '\\nＪＲ紀勢本線/藤並駅 歩29分\\nＪＲ紀勢本線/紀伊宮原駅 歩66分\\nＪＲ紀勢本線/湯浅駅 歩69分\\n',\n",
       " 'age': '\\n築36年\\n平屋\\n',\n",
       " 'floor': '\\r\\n\\t\\t\\t\\t\\t\\t\\t\\t\\t\\t\\t1階',\n",
       " 'fee': '5.5万円',\n",
       " 'management_fee': '-',\n",
       " 'deposit': '5.5万円',\n",
       " 'gratuity': '5.5万円',\n",
       " 'madori': '4DK',\n",
       " 'menseki': '53.6m2'}"
      ]
     },
     "execution_count": 25,
     "metadata": {},
     "output_type": "execute_result"
    }
   ],
   "source": [
    "d"
   ]
  },
  {
   "cell_type": "code",
   "execution_count": 26,
   "id": "abaf357a-685a-4930-ba6a-ca45439f4703",
   "metadata": {},
   "outputs": [],
   "source": [
    "d_list = []\n",
    "contents = soup.find_all('div',class_='cassetteitem')\n",
    "\n",
    "for content in contents:\n",
    "    detail = content.find('div',class_='cassetteitem-detail')\n",
    "    table = content.find('table',class_='cassetteitem_other')\n",
    "    title = detail.find('div',class_='cassetteitem_content-title').text\n",
    "    address = detail.find('li',class_='cassetteitem_detail-col1').text\n",
    "    access = detail.find('li',class_='cassetteitem_detail-col2').text\n",
    "    age = detail.find('li',class_='cassetteitem_detail-col3').text\n",
    "    \n",
    "    tr_tags = table.find_all('tr',class_='js-cassette_link')\n",
    "    for tr_tag in tr_tags:\n",
    "        floor,price,first_fee,capacity = tr_tag.find_all('td')[2:6]\n",
    "        fee,management_fee = price.find_all('li')\n",
    "        deposit,gratuity = first_fee.find_all('li')\n",
    "        madori,menseki = capacity.find_all('li')\n",
    "        \n",
    "        d = {\n",
    "            'title':title,\n",
    "            'address':address,\n",
    "            'access':access,\n",
    "            'age':age,\n",
    "            'floor':floor.text,\n",
    "            'fee':fee.text,\n",
    "            'management_fee':management_fee.text,\n",
    "            'deposit':deposit.text,\n",
    "            'gratuity':gratuity.text,\n",
    "            'madori':madori.text,\n",
    "            'menseki':menseki.text\n",
    "        }\n",
    "        \n",
    "        d_list.append(d)"
   ]
  },
  {
   "cell_type": "code",
   "execution_count": 27,
   "id": "9c76ab9f-e608-4059-b494-e94336ae1bcc",
   "metadata": {},
   "outputs": [],
   "source": [
    "from pprint import pprint"
   ]
  },
  {
   "cell_type": "code",
   "execution_count": 28,
   "id": "19b81a03-85cf-46ce-86be-94f02eaeb311",
   "metadata": {},
   "outputs": [
    {
     "name": "stdout",
     "output_type": "stream",
     "text": [
      "{'access': '\\nＪＲ紀勢本線/藤並駅 歩29分\\nＪＲ紀勢本線/紀伊宮原駅 歩66分\\nＪＲ紀勢本線/湯浅駅 歩69分\\n',\n",
      " 'address': '和歌山県有田郡有田川町大字下津野',\n",
      " 'age': '\\n築36年\\n平屋\\n',\n",
      " 'deposit': '5.5万円',\n",
      " 'fee': '5.5万円',\n",
      " 'floor': '\\r\\n\\t\\t\\t\\t\\t\\t\\t\\t\\t\\t\\t1階',\n",
      " 'gratuity': '5.5万円',\n",
      " 'madori': '4DK',\n",
      " 'management_fee': '-',\n",
      " 'menseki': '53.6m2',\n",
      " 'title': 'T様下津野平屋'}\n",
      "\n",
      "{'access': '\\n-\\n\\n\\n',\n",
      " 'address': '和歌山県日高郡みなべ町堺',\n",
      " 'age': '\\n築33年\\n平屋\\n',\n",
      " 'deposit': '4.5万円',\n",
      " 'fee': '4.5万円',\n",
      " 'floor': '\\r\\n\\t\\t\\t\\t\\t\\t\\t\\t\\t\\t\\t1階',\n",
      " 'gratuity': '4.5万円',\n",
      " 'madori': '2DK',\n",
      " 'management_fee': '3000円',\n",
      " 'menseki': '53.39m2',\n",
      " 'title': 'みなべ一戸建'}\n"
     ]
    }
   ],
   "source": [
    "pprint(d_list[0])\n",
    "print()\n",
    "pprint(d_list[1])"
   ]
  },
  {
   "cell_type": "code",
   "execution_count": 29,
   "id": "bca079ac-ebc1-4dd5-9025-66e5c0367051",
   "metadata": {},
   "outputs": [],
   "source": [
    "from time import sleep"
   ]
  },
  {
   "cell_type": "code",
   "execution_count": 55,
   "id": "71e121c9-00d0-4077-a07b-24efb50306d6",
   "metadata": {},
   "outputs": [],
   "source": [
    "url = 'https://suumo.jp/jj/chintai/ichiran/FR301FC001/?ar=060&bs=040&ta=30&sc=30201&sc=30202&sc=30203&sc=30204&sc=30205&sc=30206&sc=30208&sc=30209&sc=30340&sc=30360&sc=30380&sc=30400&sc=30420&cb=0.0&ct=9999999&et=9999999&ts=3&cn=9999999&mb=0&mt=9999999&shkr1=03&shkr2=03&shkr3=03&shkr4=03&fw2=&page={}'\n",
    "d_list = []"
   ]
  },
  {
   "cell_type": "code",
   "execution_count": 64,
   "id": "974d46d3-9b08-4b9e-9ed9-8a82a3180698",
   "metadata": {},
   "outputs": [
    {
     "name": "stdout",
     "output_type": "stream",
     "text": [
      "d_listの大きさ: 750\n",
      "https://suumo.jp/jj/chintai/ichiran/FR301FC001/?ar=060&bs=040&ta=30&sc=30201&sc=30202&sc=30203&sc=30204&sc=30205&sc=30206&sc=30208&sc=30209&sc=30340&sc=30360&sc=30380&sc=30400&sc=30420&cb=0.0&ct=9999999&et=9999999&ts=3&cn=9999999&mb=0&mt=9999999&shkr1=03&shkr2=03&shkr3=03&shkr4=03&fw2=&page=1\n",
      "d_listの大きさ: 792\n",
      "https://suumo.jp/jj/chintai/ichiran/FR301FC001/?ar=060&bs=040&ta=30&sc=30201&sc=30202&sc=30203&sc=30204&sc=30205&sc=30206&sc=30208&sc=30209&sc=30340&sc=30360&sc=30380&sc=30400&sc=30420&cb=0.0&ct=9999999&et=9999999&ts=3&cn=9999999&mb=0&mt=9999999&shkr1=03&shkr2=03&shkr3=03&shkr4=03&fw2=&page=2\n",
      "d_listの大きさ: 826\n",
      "https://suumo.jp/jj/chintai/ichiran/FR301FC001/?ar=060&bs=040&ta=30&sc=30201&sc=30202&sc=30203&sc=30204&sc=30205&sc=30206&sc=30208&sc=30209&sc=30340&sc=30360&sc=30380&sc=30400&sc=30420&cb=0.0&ct=9999999&et=9999999&ts=3&cn=9999999&mb=0&mt=9999999&shkr1=03&shkr2=03&shkr3=03&shkr4=03&fw2=&page=3\n",
      "d_listの大きさ: 859\n",
      "https://suumo.jp/jj/chintai/ichiran/FR301FC001/?ar=060&bs=040&ta=30&sc=30201&sc=30202&sc=30203&sc=30204&sc=30205&sc=30206&sc=30208&sc=30209&sc=30340&sc=30360&sc=30380&sc=30400&sc=30420&cb=0.0&ct=9999999&et=9999999&ts=3&cn=9999999&mb=0&mt=9999999&shkr1=03&shkr2=03&shkr3=03&shkr4=03&fw2=&page=4\n",
      "d_listの大きさ: 898\n",
      "https://suumo.jp/jj/chintai/ichiran/FR301FC001/?ar=060&bs=040&ta=30&sc=30201&sc=30202&sc=30203&sc=30204&sc=30205&sc=30206&sc=30208&sc=30209&sc=30340&sc=30360&sc=30380&sc=30400&sc=30420&cb=0.0&ct=9999999&et=9999999&ts=3&cn=9999999&mb=0&mt=9999999&shkr1=03&shkr2=03&shkr3=03&shkr4=03&fw2=&page=5\n",
      "d_listの大きさ: 929\n",
      "https://suumo.jp/jj/chintai/ichiran/FR301FC001/?ar=060&bs=040&ta=30&sc=30201&sc=30202&sc=30203&sc=30204&sc=30205&sc=30206&sc=30208&sc=30209&sc=30340&sc=30360&sc=30380&sc=30400&sc=30420&cb=0.0&ct=9999999&et=9999999&ts=3&cn=9999999&mb=0&mt=9999999&shkr1=03&shkr2=03&shkr3=03&shkr4=03&fw2=&page=6\n",
      "d_listの大きさ: 963\n",
      "https://suumo.jp/jj/chintai/ichiran/FR301FC001/?ar=060&bs=040&ta=30&sc=30201&sc=30202&sc=30203&sc=30204&sc=30205&sc=30206&sc=30208&sc=30209&sc=30340&sc=30360&sc=30380&sc=30400&sc=30420&cb=0.0&ct=9999999&et=9999999&ts=3&cn=9999999&mb=0&mt=9999999&shkr1=03&shkr2=03&shkr3=03&shkr4=03&fw2=&page=7\n",
      "d_listの大きさ: 998\n",
      "https://suumo.jp/jj/chintai/ichiran/FR301FC001/?ar=060&bs=040&ta=30&sc=30201&sc=30202&sc=30203&sc=30204&sc=30205&sc=30206&sc=30208&sc=30209&sc=30340&sc=30360&sc=30380&sc=30400&sc=30420&cb=0.0&ct=9999999&et=9999999&ts=3&cn=9999999&mb=0&mt=9999999&shkr1=03&shkr2=03&shkr3=03&shkr4=03&fw2=&page=8\n",
      "d_listの大きさ: 1032\n",
      "https://suumo.jp/jj/chintai/ichiran/FR301FC001/?ar=060&bs=040&ta=30&sc=30201&sc=30202&sc=30203&sc=30204&sc=30205&sc=30206&sc=30208&sc=30209&sc=30340&sc=30360&sc=30380&sc=30400&sc=30420&cb=0.0&ct=9999999&et=9999999&ts=3&cn=9999999&mb=0&mt=9999999&shkr1=03&shkr2=03&shkr3=03&shkr4=03&fw2=&page=9\n",
      "d_listの大きさ: 1073\n",
      "https://suumo.jp/jj/chintai/ichiran/FR301FC001/?ar=060&bs=040&ta=30&sc=30201&sc=30202&sc=30203&sc=30204&sc=30205&sc=30206&sc=30208&sc=30209&sc=30340&sc=30360&sc=30380&sc=30400&sc=30420&cb=0.0&ct=9999999&et=9999999&ts=3&cn=9999999&mb=0&mt=9999999&shkr1=03&shkr2=03&shkr3=03&shkr4=03&fw2=&page=10\n",
      "d_listの大きさ: 1103\n",
      "https://suumo.jp/jj/chintai/ichiran/FR301FC001/?ar=060&bs=040&ta=30&sc=30201&sc=30202&sc=30203&sc=30204&sc=30205&sc=30206&sc=30208&sc=30209&sc=30340&sc=30360&sc=30380&sc=30400&sc=30420&cb=0.0&ct=9999999&et=9999999&ts=3&cn=9999999&mb=0&mt=9999999&shkr1=03&shkr2=03&shkr3=03&shkr4=03&fw2=&page=11\n",
      "d_listの大きさ: 1135\n",
      "https://suumo.jp/jj/chintai/ichiran/FR301FC001/?ar=060&bs=040&ta=30&sc=30201&sc=30202&sc=30203&sc=30204&sc=30205&sc=30206&sc=30208&sc=30209&sc=30340&sc=30360&sc=30380&sc=30400&sc=30420&cb=0.0&ct=9999999&et=9999999&ts=3&cn=9999999&mb=0&mt=9999999&shkr1=03&shkr2=03&shkr3=03&shkr4=03&fw2=&page=12\n",
      "d_listの大きさ: 1169\n",
      "https://suumo.jp/jj/chintai/ichiran/FR301FC001/?ar=060&bs=040&ta=30&sc=30201&sc=30202&sc=30203&sc=30204&sc=30205&sc=30206&sc=30208&sc=30209&sc=30340&sc=30360&sc=30380&sc=30400&sc=30420&cb=0.0&ct=9999999&et=9999999&ts=3&cn=9999999&mb=0&mt=9999999&shkr1=03&shkr2=03&shkr3=03&shkr4=03&fw2=&page=13\n",
      "d_listの大きさ: 1201\n",
      "https://suumo.jp/jj/chintai/ichiran/FR301FC001/?ar=060&bs=040&ta=30&sc=30201&sc=30202&sc=30203&sc=30204&sc=30205&sc=30206&sc=30208&sc=30209&sc=30340&sc=30360&sc=30380&sc=30400&sc=30420&cb=0.0&ct=9999999&et=9999999&ts=3&cn=9999999&mb=0&mt=9999999&shkr1=03&shkr2=03&shkr3=03&shkr4=03&fw2=&page=14\n",
      "d_listの大きさ: 1233\n",
      "https://suumo.jp/jj/chintai/ichiran/FR301FC001/?ar=060&bs=040&ta=30&sc=30201&sc=30202&sc=30203&sc=30204&sc=30205&sc=30206&sc=30208&sc=30209&sc=30340&sc=30360&sc=30380&sc=30400&sc=30420&cb=0.0&ct=9999999&et=9999999&ts=3&cn=9999999&mb=0&mt=9999999&shkr1=03&shkr2=03&shkr3=03&shkr4=03&fw2=&page=15\n",
      "d_listの大きさ: 1265\n",
      "https://suumo.jp/jj/chintai/ichiran/FR301FC001/?ar=060&bs=040&ta=30&sc=30201&sc=30202&sc=30203&sc=30204&sc=30205&sc=30206&sc=30208&sc=30209&sc=30340&sc=30360&sc=30380&sc=30400&sc=30420&cb=0.0&ct=9999999&et=9999999&ts=3&cn=9999999&mb=0&mt=9999999&shkr1=03&shkr2=03&shkr3=03&shkr4=03&fw2=&page=16\n",
      "d_listの大きさ: 1295\n",
      "https://suumo.jp/jj/chintai/ichiran/FR301FC001/?ar=060&bs=040&ta=30&sc=30201&sc=30202&sc=30203&sc=30204&sc=30205&sc=30206&sc=30208&sc=30209&sc=30340&sc=30360&sc=30380&sc=30400&sc=30420&cb=0.0&ct=9999999&et=9999999&ts=3&cn=9999999&mb=0&mt=9999999&shkr1=03&shkr2=03&shkr3=03&shkr4=03&fw2=&page=17\n",
      "d_listの大きさ: 1325\n",
      "https://suumo.jp/jj/chintai/ichiran/FR301FC001/?ar=060&bs=040&ta=30&sc=30201&sc=30202&sc=30203&sc=30204&sc=30205&sc=30206&sc=30208&sc=30209&sc=30340&sc=30360&sc=30380&sc=30400&sc=30420&cb=0.0&ct=9999999&et=9999999&ts=3&cn=9999999&mb=0&mt=9999999&shkr1=03&shkr2=03&shkr3=03&shkr4=03&fw2=&page=18\n",
      "d_listの大きさ: 1358\n",
      "https://suumo.jp/jj/chintai/ichiran/FR301FC001/?ar=060&bs=040&ta=30&sc=30201&sc=30202&sc=30203&sc=30204&sc=30205&sc=30206&sc=30208&sc=30209&sc=30340&sc=30360&sc=30380&sc=30400&sc=30420&cb=0.0&ct=9999999&et=9999999&ts=3&cn=9999999&mb=0&mt=9999999&shkr1=03&shkr2=03&shkr3=03&shkr4=03&fw2=&page=19\n"
     ]
    }
   ],
   "source": [
    "for i in range(1, 20):\n",
    "    print('d_listの大きさ:',len(d_list))\n",
    "    target_url = url.format(i)\n",
    "    print(target_url)\n",
    "    r = requests.get(target_url)\n",
    "    \n",
    "    sleep(1)\n",
    "    \n",
    "    soup = BeautifulSoup(r.text)\n",
    "\n",
    "    contents = soup.find_all('div',class_='cassetteitem')\n",
    "\n",
    "    for content in contents:\n",
    "        detail = content.find('div',class_='cassetteitem-detail')\n",
    "        table = content.find('table',class_='cassetteitem_other')\n",
    "        title = detail.find('div',class_='cassetteitem_content-title').text\n",
    "        address = detail.find('li',class_='cassetteitem_detail-col1').text\n",
    "        access = detail.find('li',class_='cassetteitem_detail-col2').text\n",
    "        age = detail.find('li',class_='cassetteitem_detail-col3').text\n",
    "\n",
    "        tr_tags = table.find_all('tr',class_='js-cassette_link')\n",
    "        for tr_tag in tr_tags:\n",
    "            floor,price,first_fee,capacity = tr_tag.find_all('td')[2:6]\n",
    "            fee,management_fee = price.find_all('li')\n",
    "            deposit,gratuity = first_fee.find_all('li')\n",
    "            madori,menseki = capacity.find_all('li')\n",
    "\n",
    "            d = {\n",
    "                'title':title,\n",
    "                'address':address,\n",
    "                'access':access,\n",
    "                'age':age,\n",
    "                'floor':floor.text,\n",
    "                'fee':fee.text,\n",
    "                'management_fee':management_fee.text,\n",
    "                'deposit':deposit.text,\n",
    "                'gratuity':gratuity.text,\n",
    "                'madori':madori.text,\n",
    "                'menseki':menseki.text\n",
    "            }\n",
    "\n",
    "            d_list.append(d)"
   ]
  },
  {
   "cell_type": "code",
   "execution_count": 65,
   "id": "6775d1e6-1ef4-4f6d-8f9f-3c9a56b9d4bd",
   "metadata": {},
   "outputs": [
    {
     "data": {
      "text/plain": [
       "{'title': '南海本線 和歌山市駅 2階建 新築',\n",
       " 'address': '和歌山県和歌山市堀止西２',\n",
       " 'access': '\\n南海本線/和歌山市駅 バス14分 (バス停)堀止 歩4分\\n\\n\\n',\n",
       " 'age': '\\n新築\\n2階建\\n',\n",
       " 'floor': '\\r\\n\\t\\t\\t\\t\\t\\t\\t\\t\\t\\t\\t1階',\n",
       " 'fee': '14万円',\n",
       " 'management_fee': '5000円',\n",
       " 'deposit': '-',\n",
       " 'gratuity': '25万円',\n",
       " 'madori': '2LDK',\n",
       " 'menseki': '73.9m2'}"
      ]
     },
     "execution_count": 65,
     "metadata": {},
     "output_type": "execute_result"
    }
   ],
   "source": [
    "d_list[-1]"
   ]
  },
  {
   "cell_type": "code",
   "execution_count": 66,
   "id": "a8ec41b6-9585-48f2-85bf-450f8fce5baa",
   "metadata": {},
   "outputs": [],
   "source": [
    "import pandas as pd"
   ]
  },
  {
   "cell_type": "code",
   "execution_count": 67,
   "id": "2feaa29d-d3ac-496a-a6ca-1dd1e7afe61c",
   "metadata": {},
   "outputs": [],
   "source": [
    "df = pd.DataFrame(d_list)"
   ]
  },
  {
   "cell_type": "code",
   "execution_count": 68,
   "id": "c3c75a1c-97f6-4db6-b524-83cb4a3e81ef",
   "metadata": {},
   "outputs": [
    {
     "data": {
      "text/html": [
       "<div>\n",
       "<style scoped>\n",
       "    .dataframe tbody tr th:only-of-type {\n",
       "        vertical-align: middle;\n",
       "    }\n",
       "\n",
       "    .dataframe tbody tr th {\n",
       "        vertical-align: top;\n",
       "    }\n",
       "\n",
       "    .dataframe thead th {\n",
       "        text-align: right;\n",
       "    }\n",
       "</style>\n",
       "<table border=\"1\" class=\"dataframe\">\n",
       "  <thead>\n",
       "    <tr style=\"text-align: right;\">\n",
       "      <th></th>\n",
       "      <th>title</th>\n",
       "      <th>address</th>\n",
       "      <th>access</th>\n",
       "      <th>age</th>\n",
       "      <th>floor</th>\n",
       "      <th>fee</th>\n",
       "      <th>management_fee</th>\n",
       "      <th>deposit</th>\n",
       "      <th>gratuity</th>\n",
       "      <th>madori</th>\n",
       "      <th>menseki</th>\n",
       "    </tr>\n",
       "  </thead>\n",
       "  <tbody>\n",
       "    <tr>\n",
       "      <th>0</th>\n",
       "      <td>ＪＲ和歌山線 岩出駅 2階建 築30年</td>\n",
       "      <td>和歌山県岩出市森</td>\n",
       "      <td>\\nＪＲ和歌山線/岩出駅 歩33分\\nＪＲ和歌山線/船戸駅 歩35分\\nＪＲ和歌山線/紀伊小...</td>\n",
       "      <td>\\n築30年\\n2階建\\n</td>\n",
       "      <td>\\r\\n\\t\\t\\t\\t\\t\\t\\t\\t\\t\\t\\t1-2階</td>\n",
       "      <td>4.5万円</td>\n",
       "      <td>-</td>\n",
       "      <td>-</td>\n",
       "      <td>-</td>\n",
       "      <td>4DK</td>\n",
       "      <td>92.74m2</td>\n",
       "    </tr>\n",
       "    <tr>\n",
       "      <th>1</th>\n",
       "      <td>岩出市森戸建（M様）</td>\n",
       "      <td>和歌山県岩出市森</td>\n",
       "      <td>\\nＪＲ和歌山線/岩出駅 歩33分\\nＪＲ和歌山線/船戸駅 歩35分\\nＪＲ和歌山線/紀伊小...</td>\n",
       "      <td>\\n築30年\\n2階建\\n</td>\n",
       "      <td>\\r\\n\\t\\t\\t\\t\\t\\t\\t\\t\\t\\t\\t-</td>\n",
       "      <td>4.5万円</td>\n",
       "      <td>-</td>\n",
       "      <td>-</td>\n",
       "      <td>-</td>\n",
       "      <td>4DK</td>\n",
       "      <td>92.74m2</td>\n",
       "    </tr>\n",
       "    <tr>\n",
       "      <th>2</th>\n",
       "      <td>船戸合同一戸建</td>\n",
       "      <td>和歌山県岩出市船戸</td>\n",
       "      <td>\\nＪＲ和歌山線/船戸駅 歩7分\\n\\n\\n</td>\n",
       "      <td>\\n築39年\\n2階建\\n</td>\n",
       "      <td>\\r\\n\\t\\t\\t\\t\\t\\t\\t\\t\\t\\t\\t1階</td>\n",
       "      <td>5万円</td>\n",
       "      <td>-</td>\n",
       "      <td>4万円</td>\n",
       "      <td>4万円</td>\n",
       "      <td>3DK</td>\n",
       "      <td>50m2</td>\n",
       "    </tr>\n",
       "    <tr>\n",
       "      <th>3</th>\n",
       "      <td>一戸建８５７５</td>\n",
       "      <td>和歌山県岩出市清水</td>\n",
       "      <td>\\nＪＲ和歌山線/岩出駅 歩5分\\nＪＲ和歌山線/船戸駅 歩16分\\nＪＲ和歌山線/下井阪駅...</td>\n",
       "      <td>\\n築29年\\n2階建\\n</td>\n",
       "      <td>\\r\\n\\t\\t\\t\\t\\t\\t\\t\\t\\t\\t\\t1-2階</td>\n",
       "      <td>7万円</td>\n",
       "      <td>-</td>\n",
       "      <td>7万円</td>\n",
       "      <td>7万円</td>\n",
       "      <td>4LDK</td>\n",
       "      <td>96.05m2</td>\n",
       "    </tr>\n",
       "    <tr>\n",
       "      <th>4</th>\n",
       "      <td>一戸建８５７５</td>\n",
       "      <td>和歌山県岩出市清水</td>\n",
       "      <td>\\nＪＲ和歌山線/岩出駅 歩5分\\nＪＲ和歌山線/船戸駅 歩16分\\nＪＲ和歌山線/下井阪駅...</td>\n",
       "      <td>\\n築29年\\n2階建\\n</td>\n",
       "      <td>\\r\\n\\t\\t\\t\\t\\t\\t\\t\\t\\t\\t\\t1-2階</td>\n",
       "      <td>7万円</td>\n",
       "      <td>-</td>\n",
       "      <td>-</td>\n",
       "      <td>7万円</td>\n",
       "      <td>4LDK</td>\n",
       "      <td>95.97m2</td>\n",
       "    </tr>\n",
       "  </tbody>\n",
       "</table>\n",
       "</div>"
      ],
      "text/plain": [
       "                 title    address  \\\n",
       "0  ＪＲ和歌山線 岩出駅 2階建 築30年   和歌山県岩出市森   \n",
       "1           岩出市森戸建（M様）   和歌山県岩出市森   \n",
       "2              船戸合同一戸建  和歌山県岩出市船戸   \n",
       "3              一戸建８５７５  和歌山県岩出市清水   \n",
       "4              一戸建８５７５  和歌山県岩出市清水   \n",
       "\n",
       "                                              access            age  \\\n",
       "0  \\nＪＲ和歌山線/岩出駅 歩33分\\nＪＲ和歌山線/船戸駅 歩35分\\nＪＲ和歌山線/紀伊小...  \\n築30年\\n2階建\\n   \n",
       "1  \\nＪＲ和歌山線/岩出駅 歩33分\\nＪＲ和歌山線/船戸駅 歩35分\\nＪＲ和歌山線/紀伊小...  \\n築30年\\n2階建\\n   \n",
       "2                             \\nＪＲ和歌山線/船戸駅 歩7分\\n\\n\\n  \\n築39年\\n2階建\\n   \n",
       "3  \\nＪＲ和歌山線/岩出駅 歩5分\\nＪＲ和歌山線/船戸駅 歩16分\\nＪＲ和歌山線/下井阪駅...  \\n築29年\\n2階建\\n   \n",
       "4  \\nＪＲ和歌山線/岩出駅 歩5分\\nＪＲ和歌山線/船戸駅 歩16分\\nＪＲ和歌山線/下井阪駅...  \\n築29年\\n2階建\\n   \n",
       "\n",
       "                            floor    fee management_fee deposit gratuity  \\\n",
       "0  \\r\\n\\t\\t\\t\\t\\t\\t\\t\\t\\t\\t\\t1-2階  4.5万円              -       -        -   \n",
       "1     \\r\\n\\t\\t\\t\\t\\t\\t\\t\\t\\t\\t\\t-  4.5万円              -       -        -   \n",
       "2    \\r\\n\\t\\t\\t\\t\\t\\t\\t\\t\\t\\t\\t1階    5万円              -     4万円      4万円   \n",
       "3  \\r\\n\\t\\t\\t\\t\\t\\t\\t\\t\\t\\t\\t1-2階    7万円              -     7万円      7万円   \n",
       "4  \\r\\n\\t\\t\\t\\t\\t\\t\\t\\t\\t\\t\\t1-2階    7万円              -       -      7万円   \n",
       "\n",
       "  madori  menseki  \n",
       "0    4DK  92.74m2  \n",
       "1    4DK  92.74m2  \n",
       "2    3DK     50m2  \n",
       "3   4LDK  96.05m2  \n",
       "4   4LDK  95.97m2  "
      ]
     },
     "execution_count": 68,
     "metadata": {},
     "output_type": "execute_result"
    }
   ],
   "source": [
    "df.head()"
   ]
  },
  {
   "cell_type": "code",
   "execution_count": 69,
   "id": "cfddf8d6-b805-4531-93cd-e4751c0601e5",
   "metadata": {},
   "outputs": [
    {
     "data": {
      "text/plain": [
       "(1379, 11)"
      ]
     },
     "execution_count": 69,
     "metadata": {},
     "output_type": "execute_result"
    }
   ],
   "source": [
    "df.shape"
   ]
  },
  {
   "cell_type": "code",
   "execution_count": 71,
   "id": "bf8991bb-40d5-448a-a118-b22841ea6a89",
   "metadata": {},
   "outputs": [
    {
     "data": {
      "text/plain": [
       "509"
      ]
     },
     "execution_count": 71,
     "metadata": {},
     "output_type": "execute_result"
    }
   ],
   "source": [
    "len(df.title.unique())"
   ]
  },
  {
   "cell_type": "code",
   "execution_count": 72,
   "id": "9595ea1d-1c9a-495f-b0af-efd53b73e455",
   "metadata": {},
   "outputs": [],
   "source": [
    "df.to_csv('test.csv',index=None,encoding='utf-8-sig')"
   ]
  },
  {
   "cell_type": "code",
   "execution_count": null,
   "id": "830e4e1a-cc83-420a-8e43-774e10ee1b02",
   "metadata": {},
   "outputs": [],
   "source": []
  }
 ],
 "metadata": {
  "kernelspec": {
   "display_name": "Python 3 (ipykernel)",
   "language": "python",
   "name": "python3"
  },
  "language_info": {
   "codemirror_mode": {
    "name": "ipython",
    "version": 3
   },
   "file_extension": ".py",
   "mimetype": "text/x-python",
   "name": "python",
   "nbconvert_exporter": "python",
   "pygments_lexer": "ipython3",
   "version": "3.10.9"
  }
 },
 "nbformat": 4,
 "nbformat_minor": 5
}
